{
 "cells": [
  {
   "cell_type": "code",
   "execution_count": 15,
   "metadata": {},
   "outputs": [],
   "source": [
    "import os\n",
    "from dotenv import load_dotenv\n",
    "from sqlalchemy import make_url\n",
    "from llama_index.core import SimpleDirectoryReader, StorageContext\n",
    "from llama_index.core import VectorStoreIndex\n",
    "from llama_index.vector_stores.postgres import PGVectorStore\n",
    "import pandas as pd\n",
    "import uuid\n",
    "from typing import Dict, List\n",
    "from sqlalchemy import make_url\n",
    "from llama_index.core import Document, VectorStoreIndex, StorageContext\n",
    "from llama_index.vector_stores.postgres import PGVectorStore\n",
    "from llama_index.embeddings.openai import OpenAIEmbedding\n",
    "from tqdm import tqdm\n",
    "from llama_index.core.node_parser import SimpleNodeParser"
   ]
  },
  {
   "cell_type": "code",
   "execution_count": 16,
   "metadata": {},
   "outputs": [],
   "source": [
    "# load environment variables\n",
    "load_dotenv()\n",
    "\n",
    "# may need to change this to a different name\n",
    "openai_api_key = os.getenv(\"OPENAI_API_KEY\")\n",
    "connection_string = os.getenv(\"DB_CONNECTION\") \n",
    "\n",
    "url = make_url(connection_string)"
   ]
  },
  {
   "cell_type": "code",
   "execution_count": 17,
   "metadata": {},
   "outputs": [],
   "source": [
    "def generate_unique_id(name: str, school: str) -> str:\n",
    "    \"\"\"Generate a unique ID based on name and school\"\"\"\n",
    "    return str(uuid.uuid5(uuid.NAMESPACE_DNS, f\"{name}-{school}\"))\n",
    "\n",
    "def create_embedding_text(row: pd.Series) -> str:\n",
    "    \"\"\"Create a concatenated text string for embedding\"\"\"\n",
    "    # Start with required fields using column names\n",
    "    text_parts = [\n",
    "        f\"Major: {row['Major(s) and Minor(s)']}\", \n",
    "        f\"Degree: {row['Degree(s) Earned']}\", \n",
    "        f\"Job Title: {row['Current Job Title']}\", \n",
    "        f\"Industry: {row['Industry']}\"\n",
    "    ]\n",
    "    \n",
    "    # Add comments without column name if they exist\n",
    "    if not pd.isna(row['Comment']):\n",
    "        text_parts.append(str(row['Comment']))\n",
    "        \n",
    "    return \"; \".join(text_parts)\n",
    "\n",
    "def prepare_metadata(row: pd.Series) -> Dict:\n",
    "    \"\"\"Create metadata dictionary for each record\"\"\"\n",
    "    metadata = {\n",
    "        \"grad_year\": int(row[\"Graduation Year\"]),\n",
    "        \"degree\": row[\"Degree(s) Earned\"],\n",
    "        \"major\": row[\"Major(s) and Minor(s)\"],\n",
    "        \"job_title\": row[\"Current Job Title\"],\n",
    "        \"industry\": row[\"Industry\"],\n",
    "        \"school\": row[\"School\"],\n",
    "        \"comments\": None if pd.isna(row['Comment']) else row['Comment'],\n",
    "        \"name\": row[\"Name/Identifier\"],\n",
    "        \"source_identifier\": f\"{row['Name/Identifier']}-{row['School']}\"\n",
    "    }\n",
    "    return metadata\n",
    "\n",
    "def process_alumni_data(df: pd.DataFrame) -> List[Document]:\n",
    "    \"\"\"Process alumni data and return LlamaIndex documents\"\"\"\n",
    "    documents = []\n",
    "    \n",
    "    for _, row in tqdm(df.iterrows(), total=len(df)):\n",
    "        original_id = generate_unique_id(row[\"Name/Identifier\"], row[\"School\"])\n",
    "        \n",
    "        metadata = prepare_metadata(row)\n",
    "        metadata[\"original_id\"] = original_id\n",
    "        \n",
    "        doc = Document(\n",
    "            text=create_embedding_text(row),\n",
    "            metadata=metadata\n",
    "        )\n",
    "        documents.append(doc)\n",
    "    \n",
    "    return documents\n"
   ]
  },
  {
   "cell_type": "code",
   "execution_count": 38,
   "metadata": {},
   "outputs": [],
   "source": [
    "df_raw_1 = pd.read_excel(\"..\\\\data\\\\raw_alumini_data_billy_1.xlsx\")\n",
    "df_raw_2 = pd.read_excel(\"..\\\\data\\\\raw_alumini_data_billy_2.xlsx\")\n",
    "df_raw_3 = pd.read_excel(\"..\\\\data\\\\raw_alumini_data_sierra_1.xlsx\")\n"
   ]
  },
  {
   "cell_type": "code",
   "execution_count": 39,
   "metadata": {},
   "outputs": [
    {
     "name": "stdout",
     "output_type": "stream",
     "text": [
      "<class 'pandas.core.frame.DataFrame'>\n",
      "RangeIndex: 51 entries, 0 to 50\n",
      "Data columns (total 8 columns):\n",
      " #   Column                 Non-Null Count  Dtype  \n",
      "---  ------                 --------------  -----  \n",
      " 0   Name/Identifier        51 non-null     object \n",
      " 1   Graduation Year        51 non-null     int64  \n",
      " 2   Degree(s) Earned       51 non-null     object \n",
      " 3   Major(s) and Minor(s)  51 non-null     object \n",
      " 4   Current Job Title      51 non-null     object \n",
      " 5   Industry               51 non-null     object \n",
      " 6   School                 51 non-null     object \n",
      " 7   Comment                0 non-null      float64\n",
      "dtypes: float64(1), int64(1), object(6)\n",
      "memory usage: 3.3+ KB\n",
      "None\n",
      "<class 'pandas.core.frame.DataFrame'>\n",
      "RangeIndex: 50 entries, 0 to 49\n",
      "Data columns (total 8 columns):\n",
      " #   Column                 Non-Null Count  Dtype  \n",
      "---  ------                 --------------  -----  \n",
      " 0   Name/Identifier        50 non-null     object \n",
      " 1   Graduation Year        50 non-null     int64  \n",
      " 2   Degree(s) Earned       50 non-null     object \n",
      " 3   Major(s) and Minor(s)  50 non-null     object \n",
      " 4   Current Job Title      50 non-null     object \n",
      " 5   Industry               50 non-null     object \n",
      " 6   School                 50 non-null     object \n",
      " 7   Comment                0 non-null      float64\n",
      "dtypes: float64(1), int64(1), object(6)\n",
      "memory usage: 3.3+ KB\n",
      "None\n",
      "<class 'pandas.core.frame.DataFrame'>\n",
      "RangeIndex: 62 entries, 0 to 61\n",
      "Data columns (total 8 columns):\n",
      " #   Column                 Non-Null Count  Dtype  \n",
      "---  ------                 --------------  -----  \n",
      " 0   Name/Identifier        62 non-null     object \n",
      " 1   Graduation Year        62 non-null     int64  \n",
      " 2   Degree(s) Earned       62 non-null     object \n",
      " 3   Major(s) and Minor(s)  62 non-null     object \n",
      " 4   Current Job Title      62 non-null     object \n",
      " 5   Industry               62 non-null     object \n",
      " 6   School                 62 non-null     object \n",
      " 7   Comment                0 non-null      float64\n",
      "dtypes: float64(1), int64(1), object(6)\n",
      "memory usage: 4.0+ KB\n",
      "None\n"
     ]
    }
   ],
   "source": [
    "# check the column names and types for each dataframe\n",
    "print(df_raw_1.info())\n",
    "print(df_raw_2.info())\n",
    "print(df_raw_3.info())\n"
   ]
  },
  {
   "cell_type": "code",
   "execution_count": 40,
   "metadata": {},
   "outputs": [
    {
     "name": "stdout",
     "output_type": "stream",
     "text": [
      "['CGU' 'Purdue University' 'Northwestern University' 'UCLA' 'UC Davis'\n",
      " 'Loyola Marymount University' 'University of Illinois Urbana-Champaign'\n",
      " 'University of Chicago' 'Carnegie Mellon University'\n",
      " 'Columbia University' 'Caltech' 'University of Michigan' 'Pomona College'\n",
      " 'Yele University' 'Duke University' 'Northeastern University\\xa0'\n",
      " 'James Cook University' 'San Diego State University'\n",
      " 'Scripps Institution of Oceanography' 'CalPoly San Luis Obispo'\n",
      " 'Wheaton College Massachusetts' 'Cal State Long Beach'\n",
      " 'Portland State University' 'University of Maine' 'Not CGU']\n",
      "['Financial Engineering' 'Information Systems and Technology' 'Mathmatics'\n",
      " 'Economics and Financial Engineering' 'Computational Mathmatics'\n",
      " 'Business Administration' 'Economics'\n",
      " 'Applied Biostatistics and Epidemiology' 'Human Resources Design'\n",
      " 'Fine Arts' 'Public Health' 'Education' 'Human Resources'\n",
      " 'Data Evaluation and Cognitive Science'\n",
      " 'English Language and Literature/Lertters' 'Management'\n",
      " 'Applied Social Psychology' 'Biostatistics' 'Analytics'\n",
      " 'Financial Actuarial Mathematics' 'Computer Science'\n",
      " 'Electrical and Computer Engineering' 'Computational Biology'\n",
      " 'Juris Doctorate' 'Statistics' 'Financial Mathematics'\n",
      " 'Electrical Engineering' 'Evolutionary Biology' 'Histroy'\n",
      " 'Machine Learning and Neural Computation' 'Business Analytics'\n",
      " 'Applied Analytics' 'Operations Research' 'Mathematics of Finance'\n",
      " 'Electrical and Electrinics Engineering' 'Theoretical Physics'\n",
      " 'Mathematics and Economics' 'Economics and Spanish'\n",
      " 'Industrial Engineering' 'Mathematics and Computer Science'\n",
      " 'Political Science' 'Marine Biology' 'Biological Sciences' 'Biology'\n",
      " 'Natural Sciences' 'Marine Sciences' 'Finance - Big Data'\n",
      " 'Operations Research & Supply Chain Management'\n",
      " 'Astronomy and Astrobiology' 'Computing and Information Sciences'\n",
      " 'Financial Big Data Analytics' 'Data Science, Computer Science' 'Finance'\n",
      " 'Finance and Risk Management' 'Electrical and Computer Engineer'\n",
      " 'Accounting and Finance' 'Applied Mathematics'\n",
      " 'Materials Science and EngineeringDoctor of Philosophy - PhD, Materials Science and Engineering'\n",
      " 'Applied Mathematics & Statistics' 'Data Science' 'Cognitive Science'\n",
      " 'Transportation Engineering' 'Computational Data Science'\n",
      " 'Computer Engineering' 'Mathematics' 'Criminal Justice and Corrections'\n",
      " 'Law' 'Accounting'\n",
      " \"Mass Communication/Media Studies and Pre-Law StudiesB.S's degree, Mass Communication/Media Studies and Pre-Law Studies\"\n",
      " 'Registered Nursing/Registered Nurse' 'Family Nurse Practitioner'\n",
      " 'Elementary Education and Teaching' 'Business/Corporate Communications'\n",
      " 'Mechanical Engineering'\n",
      " 'Human Resources Management/Personnel Administration, General'\n",
      " 'Business Administration and Management, General']\n",
      "['M.S' 'PhD' 'MBA' 'MPH' 'MFA' 'MA' 'B.S' 'Doctorate' 'BA' 'EdD' 'LL.M.'\n",
      " 'JD' 'A.S']\n"
     ]
    }
   ],
   "source": [
    "df_combined = pd.concat([df_raw_1, df_raw_2, df_raw_3])\n",
    "\n",
    "# check unique values for each column\n",
    "print(df_combined[\"School\"].unique())\n",
    "print(df_combined[\"Major(s) and Minor(s)\"].unique())\n",
    "print(df_combined[\"Degree(s) Earned\"].unique())\n"
   ]
  },
  {
   "cell_type": "code",
   "execution_count": 41,
   "metadata": {},
   "outputs": [],
   "source": [
    "# make the school column 'CGU' or 'Not CGU'\n",
    "df_combined[\"School\"] = df_combined[\"School\"].apply(lambda x: 'CGU' if x == 'CGU' else 'Not CGU')\n",
    "\n",
    "# fix the degree column to 'Doctorate' or 'PhD'\n",
    "df_combined[\"Degree(s) Earned\"] = df_combined[\"Degree(s) Earned\"].apply(lambda x: 'Doctorate' if x == 'PhD' else x)\n"
   ]
  },
  {
   "cell_type": "code",
   "execution_count": 42,
   "metadata": {},
   "outputs": [
    {
     "data": {
      "text/plain": [
       "School\n",
       "Not CGU    112\n",
       "CGU         51\n",
       "Name: count, dtype: int64"
      ]
     },
     "execution_count": 42,
     "metadata": {},
     "output_type": "execute_result"
    }
   ],
   "source": [
    "df_combined[\"School\"].value_counts()"
   ]
  },
  {
   "cell_type": "code",
   "execution_count": 43,
   "metadata": {},
   "outputs": [
    {
     "data": {
      "text/plain": [
       "Degree(s) Earned\n",
       "M.S          78\n",
       "Doctorate    41\n",
       "B.S          17\n",
       "MBA           7\n",
       "MA            7\n",
       "BA            5\n",
       "MPH           3\n",
       "MFA           1\n",
       "EdD           1\n",
       "LL.M.         1\n",
       "JD            1\n",
       "A.S           1\n",
       "Name: count, dtype: int64"
      ]
     },
     "execution_count": 43,
     "metadata": {},
     "output_type": "execute_result"
    }
   ],
   "source": [
    "df_combined[\"Degree(s) Earned\"].value_counts()\n",
    "\n"
   ]
  },
  {
   "cell_type": "code",
   "execution_count": 44,
   "metadata": {},
   "outputs": [
    {
     "data": {
      "text/plain": [
       "(163, 8)"
      ]
     },
     "execution_count": 44,
     "metadata": {},
     "output_type": "execute_result"
    }
   ],
   "source": [
    "df_combined.shape"
   ]
  },
  {
   "cell_type": "code",
   "execution_count": 45,
   "metadata": {},
   "outputs": [
    {
     "data": {
      "text/plain": [
       "Name/Identifier            0\n",
       "Graduation Year            0\n",
       "Degree(s) Earned           0\n",
       "Major(s) and Minor(s)      0\n",
       "Current Job Title          0\n",
       "Industry                   0\n",
       "School                     0\n",
       "Comment                  163\n",
       "dtype: int64"
      ]
     },
     "execution_count": 45,
     "metadata": {},
     "output_type": "execute_result"
    }
   ],
   "source": [
    "# check for missing values\n",
    "df_combined.isnull().sum()\n"
   ]
  },
  {
   "cell_type": "code",
   "execution_count": 46,
   "metadata": {},
   "outputs": [
    {
     "name": "stderr",
     "output_type": "stream",
     "text": [
      "100%|██████████| 163/163 [00:00<00:00, 15387.61it/s]\n"
     ]
    }
   ],
   "source": [
    "# Process the data\n",
    "documents_raw = process_alumni_data(df_combined)"
   ]
  },
  {
   "cell_type": "code",
   "execution_count": 47,
   "metadata": {},
   "outputs": [
    {
     "name": "stdout",
     "output_type": "stream",
     "text": [
      "163 nodes created\n"
     ]
    }
   ],
   "source": [
    "parser = SimpleNodeParser()\n",
    "nodes = parser.get_nodes_from_documents(documents_raw)\n",
    "print(f'{len(nodes)} nodes created')"
   ]
  },
  {
   "cell_type": "code",
   "execution_count": 48,
   "metadata": {},
   "outputs": [],
   "source": [
    "\n",
    "# Create embedding model\n",
    "embedding_model = OpenAIEmbedding(model=\"text-embedding-3-large\")\n",
    "\n",
    "# Set up database connection and vector store\n",
    "url = make_url(connection_string)\n",
    "vector_store = PGVectorStore.from_params(\n",
    "    database='ai_advising_db',\n",
    "    host=url.host,\n",
    "    password=url.password,\n",
    "    port=url.port,\n",
    "    user=url.username,\n",
    "    table_name=\"alumni_records\",\n",
    "    embed_dim=3072,  # openai embedding dimension\n",
    "    hybrid_search=True,  # Enable hybrid search\n",
    "    text_search_config=\"english\",\n",
    ")\n",
    "\n",
    "# Create storage context and index\n",
    "storage_context = StorageContext.from_defaults(vector_store=vector_store)"
   ]
  },
  {
   "cell_type": "code",
   "execution_count": 49,
   "metadata": {},
   "outputs": [
    {
     "data": {
      "text/plain": [
       "Document(id_='45855fbe-ae1b-4392-83ba-249ba7dbf696', embedding=None, metadata={'grad_year': 2012, 'degree': 'M.S', 'major': 'Financial Engineering', 'job_title': 'Engineering Leader', 'industry': 'Entertainment Providers', 'school': 'CGU', 'comments': None, 'name': 'Yunzhi Z.', 'source_identifier': 'Yunzhi Z.-CGU', 'original_id': 'bbec7767-7721-5682-99e6-463bfdaf93b4'}, excluded_embed_metadata_keys=[], excluded_llm_metadata_keys=[], relationships={}, text='Major: Financial Engineering; Degree: M.S; Job Title: Engineering Leader; Industry: Entertainment Providers', mimetype='text/plain', start_char_idx=None, end_char_idx=None, text_template='{metadata_str}\\n\\n{content}', metadata_template='{key}: {value}', metadata_seperator='\\n')"
      ]
     },
     "execution_count": 49,
     "metadata": {},
     "output_type": "execute_result"
    }
   ],
   "source": [
    "documents_raw[0]"
   ]
  },
  {
   "cell_type": "code",
   "execution_count": 50,
   "metadata": {},
   "outputs": [
    {
     "data": {
      "text/plain": [
       "TextNode(id_='0a0a0d0c-94c6-47f6-a075-fb8308321fcb', embedding=None, metadata={'grad_year': 2012, 'degree': 'M.S', 'major': 'Financial Engineering', 'job_title': 'Engineering Leader', 'industry': 'Entertainment Providers', 'school': 'CGU', 'comments': None, 'name': 'Yunzhi Z.', 'source_identifier': 'Yunzhi Z.-CGU', 'original_id': 'bbec7767-7721-5682-99e6-463bfdaf93b4'}, excluded_embed_metadata_keys=[], excluded_llm_metadata_keys=[], relationships={<NodeRelationship.SOURCE: '1'>: RelatedNodeInfo(node_id='45855fbe-ae1b-4392-83ba-249ba7dbf696', node_type=<ObjectType.DOCUMENT: '4'>, metadata={'grad_year': 2012, 'degree': 'M.S', 'major': 'Financial Engineering', 'job_title': 'Engineering Leader', 'industry': 'Entertainment Providers', 'school': 'CGU', 'comments': None, 'name': 'Yunzhi Z.', 'source_identifier': 'Yunzhi Z.-CGU', 'original_id': 'bbec7767-7721-5682-99e6-463bfdaf93b4'}, hash='162b5e64f1babd24d9dbb85d5c6c0f066b16be1ab9590518fd26ee3ef1ba5217')}, text='Major: Financial Engineering; Degree: M.S; Job Title: Engineering Leader; Industry: Entertainment Providers', mimetype='text/plain', start_char_idx=0, end_char_idx=107, text_template='{metadata_str}\\n\\n{content}', metadata_template='{key}: {value}', metadata_seperator='\\n')"
      ]
     },
     "execution_count": 50,
     "metadata": {},
     "output_type": "execute_result"
    }
   ],
   "source": [
    "nodes[0]"
   ]
  },
  {
   "cell_type": "code",
   "execution_count": 51,
   "metadata": {},
   "outputs": [
    {
     "name": "stderr",
     "output_type": "stream",
     "text": [
      "Generating embeddings: 100%|██████████| 163/163 [00:02<00:00, 62.84it/s]\n"
     ]
    }
   ],
   "source": [
    "# Create and store index\n",
    "index = VectorStoreIndex(\n",
    "    nodes=nodes,\n",
    "    storage_context=storage_context,\n",
    "    embed_model=embedding_model,\n",
    "    show_progress=True\n",
    ")"
   ]
  }
 ],
 "metadata": {
  "kernelspec": {
   "display_name": "venv-dev",
   "language": "python",
   "name": "python3"
  },
  "language_info": {
   "codemirror_mode": {
    "name": "ipython",
    "version": 3
   },
   "file_extension": ".py",
   "mimetype": "text/x-python",
   "name": "python",
   "nbconvert_exporter": "python",
   "pygments_lexer": "ipython3",
   "version": "3.11.4"
  }
 },
 "nbformat": 4,
 "nbformat_minor": 2
}
