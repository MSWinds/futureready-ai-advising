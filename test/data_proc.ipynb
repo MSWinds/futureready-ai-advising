{
 "cells": [
  {
   "cell_type": "code",
   "execution_count": 25,
   "metadata": {},
   "outputs": [],
   "source": [
    "import os\n",
    "from dotenv import load_dotenv\n",
    "from sqlalchemy import make_url\n",
    "from llama_index.core import SimpleDirectoryReader, StorageContext\n",
    "from llama_index.core import VectorStoreIndex\n",
    "from llama_index.vector_stores.postgres import PGVectorStore\n",
    "import pandas as pd\n",
    "import uuid\n",
    "from typing import Dict, List\n",
    "from sqlalchemy import make_url\n",
    "from llama_index.core import Document, VectorStoreIndex, StorageContext\n",
    "from llama_index.vector_stores.postgres import PGVectorStore\n",
    "from llama_index.embeddings.openai import OpenAIEmbedding\n",
    "from tqdm import tqdm\n",
    "from llama_index.core.node_parser import SimpleNodeParser"
   ]
  },
  {
   "cell_type": "code",
   "execution_count": 26,
   "metadata": {},
   "outputs": [],
   "source": [
    "# load environment variables\n",
    "load_dotenv()\n",
    "\n",
    "# may need to change this to a different name\n",
    "openai_api_key = os.getenv(\"OPENAI_API_KEY\")\n",
    "connection_string = os.getenv(\"DB_CONNECTION\") \n",
    "\n",
    "url = make_url(connection_string)"
   ]
  },
  {
   "cell_type": "code",
   "execution_count": 27,
   "metadata": {},
   "outputs": [],
   "source": [
    "def generate_unique_id(name: str, school: str) -> str:\n",
    "    \"\"\"Generate a unique ID based on name and school\"\"\"\n",
    "    return str(uuid.uuid5(uuid.NAMESPACE_DNS, f\"{name}-{school}\"))\n",
    "\n",
    "def create_embedding_text(row: pd.Series) -> str:\n",
    "    \"\"\"Create a concatenated text string for embedding\"\"\"\n",
    "    # Start with required fields using column names\n",
    "    text_parts = [\n",
    "        f\"Major: {row['Major(s) and Minor(s)']}\", \n",
    "        f\"Degree: {row['Degree(s) Earned']}\", \n",
    "        f\"Job Title: {row['Current Job Title']}\", \n",
    "        f\"Industry: {row['Industry']}\"\n",
    "    ]\n",
    "    \n",
    "    # Add comments without column name if they exist\n",
    "    if not pd.isna(row['Comment']):\n",
    "        text_parts.append(str(row['Comment']))\n",
    "        \n",
    "    return \"; \".join(text_parts)\n",
    "\n",
    "def prepare_metadata(row: pd.Series) -> Dict:\n",
    "    \"\"\"Create metadata dictionary for each record\"\"\"\n",
    "    metadata = {\n",
    "        \"grad_year\": int(row[\"Graduation Year\"]),\n",
    "        \"degree\": row[\"Degree(s) Earned\"],\n",
    "        \"major\": row[\"Major(s) and Minor(s)\"],\n",
    "        \"job_title\": row[\"Current Job Title\"],\n",
    "        \"industry\": row[\"Industry\"],\n",
    "        \"school\": row[\"School\"],\n",
    "        \"comments\": None if pd.isna(row['Comment']) else row['Comment'],\n",
    "        \"name\": row[\"Name/Identifier\"],\n",
    "        \"source_identifier\": f\"{row['Name/Identifier']}-{row['School']}\"\n",
    "    }\n",
    "    return metadata\n",
    "\n",
    "def process_alumni_data(df: pd.DataFrame) -> List[Document]:\n",
    "    \"\"\"Process alumni data and return LlamaIndex documents\"\"\"\n",
    "    documents = []\n",
    "    \n",
    "    for _, row in tqdm(df.iterrows(), total=len(df)):\n",
    "        original_id = generate_unique_id(row[\"Name/Identifier\"], row[\"School\"])\n",
    "        \n",
    "        metadata = prepare_metadata(row)\n",
    "        metadata[\"original_id\"] = original_id\n",
    "        \n",
    "        doc = Document(\n",
    "            text=create_embedding_text(row),\n",
    "            metadata=metadata\n",
    "        )\n",
    "        documents.append(doc)\n",
    "    \n",
    "    return documents\n"
   ]
  },
  {
   "cell_type": "code",
   "execution_count": 28,
   "metadata": {},
   "outputs": [
    {
     "name": "stderr",
     "output_type": "stream",
     "text": [
      "100%|██████████| 51/51 [00:00<00:00, 10198.79it/s]\n"
     ]
    }
   ],
   "source": [
    "# Process the data\n",
    "df_raw_1 = pd.read_excel(\"..\\\\data\\\\raw_alumini_data_billy.xlsx\")\n",
    "documents_raw_1 = process_alumni_data(df_raw_1)"
   ]
  },
  {
   "cell_type": "code",
   "execution_count": 29,
   "metadata": {},
   "outputs": [
    {
     "name": "stdout",
     "output_type": "stream",
     "text": [
      "51 nodes created\n"
     ]
    }
   ],
   "source": [
    "parser = SimpleNodeParser()\n",
    "nodes = parser.get_nodes_from_documents(documents_raw_1)\n",
    "print(f'{len(nodes)} nodes created')"
   ]
  },
  {
   "cell_type": "code",
   "execution_count": 30,
   "metadata": {},
   "outputs": [],
   "source": [
    "\n",
    "# Create embedding model\n",
    "embedding_model = OpenAIEmbedding(model=\"text-embedding-3-large\")\n",
    "\n",
    "# Set up database connection and vector store\n",
    "url = make_url(connection_string)\n",
    "vector_store = PGVectorStore.from_params(\n",
    "    database='ai_advising_db',\n",
    "    host=url.host,\n",
    "    password=url.password,\n",
    "    port=url.port,\n",
    "    user=url.username,\n",
    "    table_name=\"alumni_records\",\n",
    "    embed_dim=3072,  # openai embedding dimension\n",
    "    hybrid_search=True,  # Enable hybrid search\n",
    "    text_search_config=\"english\",\n",
    ")\n",
    "\n",
    "# Create storage context and index\n",
    "storage_context = StorageContext.from_defaults(vector_store=vector_store)"
   ]
  },
  {
   "cell_type": "code",
   "execution_count": 31,
   "metadata": {},
   "outputs": [
    {
     "data": {
      "text/plain": [
       "Document(id_='da18da8d-79b7-4e3e-bd21-83b4c4235ac9', embedding=None, metadata={'grad_year': 2012, 'degree': 'M.S', 'major': 'Financial Engineering', 'job_title': 'Engineering Leader', 'industry': 'Entertainment Providers', 'school': 'CGU', 'comments': None, 'name': 'Yunzhi Z.', 'source_identifier': 'Yunzhi Z.-CGU', 'original_id': 'bbec7767-7721-5682-99e6-463bfdaf93b4'}, excluded_embed_metadata_keys=[], excluded_llm_metadata_keys=[], relationships={}, text='Major: Financial Engineering; Degree: M.S; Job Title: Engineering Leader; Industry: Entertainment Providers', mimetype='text/plain', start_char_idx=None, end_char_idx=None, text_template='{metadata_str}\\n\\n{content}', metadata_template='{key}: {value}', metadata_seperator='\\n')"
      ]
     },
     "execution_count": 31,
     "metadata": {},
     "output_type": "execute_result"
    }
   ],
   "source": [
    "documents_raw_1[0]"
   ]
  },
  {
   "cell_type": "code",
   "execution_count": 32,
   "metadata": {},
   "outputs": [
    {
     "data": {
      "text/plain": [
       "TextNode(id_='1670351c-854f-4e13-90da-f4d702919173', embedding=None, metadata={'grad_year': 2012, 'degree': 'M.S', 'major': 'Financial Engineering', 'job_title': 'Engineering Leader', 'industry': 'Entertainment Providers', 'school': 'CGU', 'comments': None, 'name': 'Yunzhi Z.', 'source_identifier': 'Yunzhi Z.-CGU', 'original_id': 'bbec7767-7721-5682-99e6-463bfdaf93b4'}, excluded_embed_metadata_keys=[], excluded_llm_metadata_keys=[], relationships={<NodeRelationship.SOURCE: '1'>: RelatedNodeInfo(node_id='da18da8d-79b7-4e3e-bd21-83b4c4235ac9', node_type=<ObjectType.DOCUMENT: '4'>, metadata={'grad_year': 2012, 'degree': 'M.S', 'major': 'Financial Engineering', 'job_title': 'Engineering Leader', 'industry': 'Entertainment Providers', 'school': 'CGU', 'comments': None, 'name': 'Yunzhi Z.', 'source_identifier': 'Yunzhi Z.-CGU', 'original_id': 'bbec7767-7721-5682-99e6-463bfdaf93b4'}, hash='162b5e64f1babd24d9dbb85d5c6c0f066b16be1ab9590518fd26ee3ef1ba5217')}, text='Major: Financial Engineering; Degree: M.S; Job Title: Engineering Leader; Industry: Entertainment Providers', mimetype='text/plain', start_char_idx=0, end_char_idx=107, text_template='{metadata_str}\\n\\n{content}', metadata_template='{key}: {value}', metadata_seperator='\\n')"
      ]
     },
     "execution_count": 32,
     "metadata": {},
     "output_type": "execute_result"
    }
   ],
   "source": [
    "nodes[0]"
   ]
  },
  {
   "cell_type": "code",
   "execution_count": 33,
   "metadata": {},
   "outputs": [
    {
     "name": "stderr",
     "output_type": "stream",
     "text": [
      "Generating embeddings: 100%|██████████| 51/51 [00:01<00:00, 48.30it/s]\n"
     ]
    }
   ],
   "source": [
    "# Create and store index\n",
    "index = VectorStoreIndex(\n",
    "    nodes=nodes,\n",
    "    storage_context=storage_context,\n",
    "    embed_model=embedding_model,\n",
    "    show_progress=True\n",
    ")"
   ]
  }
 ],
 "metadata": {
  "kernelspec": {
   "display_name": "venv-dev",
   "language": "python",
   "name": "python3"
  },
  "language_info": {
   "codemirror_mode": {
    "name": "ipython",
    "version": 3
   },
   "file_extension": ".py",
   "mimetype": "text/x-python",
   "name": "python",
   "nbconvert_exporter": "python",
   "pygments_lexer": "ipython3",
   "version": "3.11.4"
  }
 },
 "nbformat": 4,
 "nbformat_minor": 2
}
